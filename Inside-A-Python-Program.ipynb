{
 "cells": [
  {
   "cell_type": "markdown",
   "metadata": {},
   "source": [
    "# CIS 3703 Python Programming - Spring 2021"
   ]
  },
  {
   "cell_type": "code",
   "execution_count": 1,
   "metadata": {},
   "outputs": [],
   "source": [
    "# The following should be included in each Jupyter Notebook. We will discuss this later in the course.\n",
    "# For now, just include these statements.\n",
    "\n",
    "# For more information, see\n",
    "# https://ipython.readthedocs.io/en/stable/config/extensions/autoreload.html\n",
    "\n",
    "%load_ext autoreload\n",
    "%autoreload 2"
   ]
  },
  {
   "cell_type": "markdown",
   "metadata": {},
   "source": [
    "# Inside a Python Program"
   ]
  },
  {
   "cell_type": "markdown",
   "metadata": {},
   "source": [
    "The function below computes a logistic function that is used to model a variety of phenomena in the real world. The form of the function is\n",
    "<p>k(x)(1-x)\n",
    "<p>Where k is a constant\n",
    "<p>Repeated application of the function produces chaos (the so-called \"Butterfly Effect\"): small differences in the initial value can lead to large differences in the result."
   ]
  },
  {
   "cell_type": "markdown",
   "metadata": {},
   "source": [
    "<ul>\n",
    "    <li>Comments start with a # and are ignored by the interpreter.\n",
    "</ul>"
   ]
  },
  {
   "cell_type": "code",
   "execution_count": 2,
   "metadata": {},
   "outputs": [],
   "source": [
    "# Define a function for testing chaotic behavior.\n",
    "# Function definition starts with the keyword def, \n",
    "#    followed by the name of the function, \n",
    "#    open paren, \n",
    "#    comma-separated arguments (if any), \n",
    "#    closed parens and \n",
    "#    a semi-colon\n",
    "def make_chaos():\n",
    "    # Print a message indicating what this is\n",
    "    print(\"This is the chaos function\")\n",
    "    \n",
    "    # Capture some input from the user and store it in the variable x\n",
    "    #    A variable is a named value that can be used or referred to elsewhere in the function\n",
    "    # The details of this will be covered later, for now, this statement displays a prompt to\n",
    "    # the user and waits for the user to type something in. It takes that value (that the user)\n",
    "    # typed in and stores it in the variable x.\n",
    "    x = eval(input(\"Enter a number between 0 and 1: \"))\n",
    "    \n",
    "    # This is an example of a loop. A loop basically tells Python to do something over and over\n",
    "    # some number of times. The indented statements are the statements that are done over and\n",
    "    # over again.\n",
    "    \n",
    "    # In this loop, we are going to update the value of x 10 times using a formula given in the\n",
    "    # loop and print out the updated value.\n",
    "    for i in range(10):\n",
    "        \n",
    "        # This is an assignment statement. The right hand side of the = is an expression that\n",
    "        # evaluates to a number. The result of this evaluation is assigned to the variable x\n",
    "        x = 3.9 * x * (1 - x)\n",
    "        print(x)"
   ]
  },
  {
   "cell_type": "code",
   "execution_count": null,
   "metadata": {},
   "outputs": [],
   "source": []
  }
 ],
 "metadata": {
  "kernelspec": {
   "display_name": "Python 3",
   "language": "python",
   "name": "python3"
  },
  "language_info": {
   "codemirror_mode": {
    "name": "ipython",
    "version": 3
   },
   "file_extension": ".py",
   "mimetype": "text/x-python",
   "name": "python",
   "nbconvert_exporter": "python",
   "pygments_lexer": "ipython3",
   "version": "3.9.1"
  }
 },
 "nbformat": 4,
 "nbformat_minor": 4
}
