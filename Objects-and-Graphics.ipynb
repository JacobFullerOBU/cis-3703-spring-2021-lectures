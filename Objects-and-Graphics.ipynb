{
 "cells": [
  {
   "cell_type": "markdown",
   "metadata": {},
   "source": [
    "# CIS 3703 Python Programming - Spring 2021"
   ]
  },
  {
   "cell_type": "code",
   "execution_count": null,
   "metadata": {},
   "outputs": [],
   "source": [
    "# The following should be included in each Jupyter Notebook. We will discuss this later in the course.\n",
    "# For now, just include these statements.\n",
    "\n",
    "# For more information, see\n",
    "# https://ipython.readthedocs.io/en/stable/config/extensions/autoreload.html\n",
    "\n",
    "%load_ext autoreload\n",
    "%autoreload 2"
   ]
  },
  {
   "cell_type": "markdown",
   "metadata": {},
   "source": [
    "Python has its own standard GUI called <i>Tkinter</i>.\n",
    "\n",
    "Object Oriented Programming (OOP)\n",
    "<ul>\n",
    "    <li>View a complex system as the interaction of simpler objects\n",
    "    <li>An OO datatype is a sort of active data type that combines data and operations\n",
    "    <ul>\n",
    "        <li>Objects \"know stuff\" (they contain data)\n",
    "        <li>Objects \"can do stuff\" (they have operations)\n",
    "        <li>Objects interact be sending messages\n",
    "    </ul>\n",
    "</ul>"
   ]
  },
  {
   "cell_type": "markdown",
   "metadata": {},
   "source": [
    "## Simple Graphics Programming"
   ]
  },
  {
   "cell_type": "markdown",
   "metadata": {},
   "source": [
    "We are going to use the Python IDE for our graphics programming. You can run this by selecting the \"IDLE\" from the start menu. It will pop up a window where you can type in Python commands."
   ]
  },
  {
   "cell_type": "markdown",
   "metadata": {},
   "source": [
    "First, we will need to import some packages to modify the working directory. These are available in the os module. To get these, do the following in the IDLE prompt<p>\n",
    "<code>import os\n",
    "os.getcwd()</code>"
   ]
  },
  {
   "cell_type": "markdown",
   "metadata": {},
   "source": [
    "To change the current directory, use the following (You will need to replace \"New Directory\" to the path to the directory with the lecture information) <p>\n",
    "<code>os.chdir(\"New Directory\")</code>"
   ]
  },
  {
   "cell_type": "markdown",
   "metadata": {},
   "source": [
    "To list files in a directory<p>\n",
    "    <code>os.listdir('.')</code>"
   ]
  },
  {
   "cell_type": "markdown",
   "metadata": {},
   "source": [
    "There is another useful package that will allow us to refresh our code as we make changes.<p>\n",
    "    <code>import importlib</code>\n",
    "<p>The method that we will use is <p>\n",
    "    <code>importlib.reload(&lt;object reference&gt;</code>"
   ]
  },
  {
   "cell_type": "markdown",
   "metadata": {},
   "source": [
    "Now, we are ready to start by importing our example code.<p>\n",
    "    <code>import objects_and_graphics as ex</code>"
   ]
  }
 ],
 "metadata": {
  "kernelspec": {
   "display_name": "Python 3",
   "language": "python",
   "name": "python3"
  },
  "language_info": {
   "codemirror_mode": {
    "name": "ipython",
    "version": 3
   },
   "file_extension": ".py",
   "mimetype": "text/x-python",
   "name": "python",
   "nbconvert_exporter": "python",
   "pygments_lexer": "ipython3",
   "version": "3.9.1"
  }
 },
 "nbformat": 4,
 "nbformat_minor": 4
}
